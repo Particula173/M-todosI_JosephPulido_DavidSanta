{
 "cells": [
  {
   "cell_type": "code",
   "execution_count": 21,
   "metadata": {},
   "outputs": [],
   "source": [
    "import numpy as np\n",
    "import matplotlib.pyplot as plt\n",
    "from itertools import permutations\n",
    "from itertools import combinations\n",
    "from itertools import combinations_with_replacement\n",
    "\n",
    "T=np.array([[0.8,0.2],[0.2,0.8]])\n",
    "E=np.array([[0.5,0.9],[0.5,0.1]])\n",
    "ocult=[\"J\",\"B\"]\n",
    "visible={0:\"cara\",1:\"sello\"}\n",
    "priori=[0.2, 0.8]\n",
    "estados=[0,1]\n"
   ]
  },
  {
   "cell_type": "code",
   "execution_count": 11,
   "metadata": {},
   "outputs": [],
   "source": [
    "def totalestados(estat,N):\n",
    "    \n",
    "    Combin = list( combinations_with_replacement(estat,N) )\n",
    "    Permu = []\n",
    "    for i in Combin:\n",
    "        p = list(permutations(i,N))\n",
    "        for i in p:\n",
    "            if i not in Permu:\n",
    "                Permu.append(i)\n",
    "                \n",
    "    return np.array(Permu)\n",
    "\n",
    "def Probabilidad(T,E,obser,oculto,Priori):\n",
    "    \n",
    "    n = obser.shape[0]\n",
    "    p = 1.\n",
    "    \n",
    "    p *= Priori[oculto[0]]\n",
    "    \n",
    "    for i in range(n-1):\n",
    "        p *= T[ oculto[i+1], oculto[i]  ]\n",
    "        \n",
    "    for i in range(n):\n",
    "        p *= E[ obser[i], oculto[i] ]\n",
    "        \n",
    "    return p"
   ]
  },
  {
   "cell_type": "code",
   "execution_count": 34,
   "metadata": {},
   "outputs": [
    {
     "name": "stdout",
     "output_type": "stream",
     "text": [
      "b) La  secuencia oculta más probable es ['B', 'B', 'B', 'B', 'J', 'J', 'J', 'J']  y su probabilidad es  0.0001911029760000001\n"
     ]
    }
   ],
   "source": [
    "obser=np.array([1,0,0,0,1,0,1,0])\n",
    "TEstados=totalestados(estados,obser.shape[0])\n",
    "Probs=np.zeros(TEstados.shape[0])\n",
    "for i in range(TEstados.shape[0]):\n",
    "    Probs[i]=Probabilidad(T,E,obser,TEstados[i],priori)\n",
    "\n",
    "ii=np.where(np.max(Probs)==Probs)\n",
    "\n",
    "sec=TEstados[ii][0]\n",
    "secR=[]\n",
    "for i in sec:\n",
    "    val=ocult[i]\n",
    "    secR.append(val)\n",
    "\n",
    "\n",
    "print(\"b) La  secuencia oculta más probable es\", secR ,\" y su probabilidad es \",Probs[ii][0])\n"
   ]
  }
 ],
 "metadata": {
  "kernelspec": {
   "display_name": "base",
   "language": "python",
   "name": "python3"
  },
  "language_info": {
   "codemirror_mode": {
    "name": "ipython",
    "version": 3
   },
   "file_extension": ".py",
   "mimetype": "text/x-python",
   "name": "python",
   "nbconvert_exporter": "python",
   "pygments_lexer": "ipython3",
   "version": "3.11.3"
  }
 },
 "nbformat": 4,
 "nbformat_minor": 2
}
