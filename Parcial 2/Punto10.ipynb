{
 "cells": [
  {
   "cell_type": "code",
   "execution_count": 5,
   "metadata": {},
   "outputs": [
    {
     "data": {
      "text/latex": [
       "$\\displaystyle \\frac{3 h^{5}}{80}$"
      ],
      "text/plain": [
       "3*h**5/80"
      ]
     },
     "execution_count": 5,
     "metadata": {},
     "output_type": "execute_result"
    }
   ],
   "source": [
    "import sympy as sp\n",
    "\n",
    "x, h = sp.symbols('x h')\n",
    "a, b = 0, 3*h\n",
    "f = lambda x : x * (x - h) * (x - 2*h) * (x - 3*h)\n",
    "I = sp.integrate(f(x),(x,b,a))\n",
    "I = I/sp.factorial(4)\n",
    "I"
   ]
  },
  {
   "cell_type": "markdown",
   "metadata": {},
   "source": [
    "Dado que deseamos demostrar que el error de la regla de Simpson se encuentra expresado en la fórmula, sabemos que dicho error surge de la diferencia entre el valor de la integral real y el valor obtenido mediante el método. Sin embargo, al realizar esta resta, nos encontramos con que el valor de la integral calculada mediante el método es igual a cero. Por lo tanto, al calcular la integral real y restarle cero, y luego sustituir este resultado en la expresión, queda claro que el error siempre está dado por dicha expresión. "
   ]
  }
 ],
 "metadata": {
  "kernelspec": {
   "display_name": "Python 3",
   "language": "python",
   "name": "python3"
  },
  "language_info": {
   "codemirror_mode": {
    "name": "ipython",
    "version": 3
   },
   "file_extension": ".py",
   "mimetype": "text/x-python",
   "name": "python",
   "nbconvert_exporter": "python",
   "pygments_lexer": "ipython3",
   "version": "3.11.1"
  },
  "orig_nbformat": 4
 },
 "nbformat": 4,
 "nbformat_minor": 2
}
